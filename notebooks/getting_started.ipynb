{
 "cells": [
  {
   "cell_type": "markdown",
   "id": "editorial-support",
   "metadata": {},
   "source": [
    "# Getting started"
   ]
  },
  {
   "cell_type": "markdown",
   "id": "collectible-gather",
   "metadata": {},
   "source": [
    "formulae requires a working Python interpreter (3.7+) and the libraries numpy, scipy and pandas with versions specified in the [requirements.txt](https://github.com/bambinos/formulae/blob/master/requirements.txt) file.\n",
    "\n",
    "Assuming a standard Python environment is installed on your machine (including pip), the latest release of formulae can be installed in one line using pip:\n",
    "\n",
    "`pip install formulae`\n",
    "\n",
    "Alternatively, if you want the development version of the package you can install from GitHub:\n",
    "\n",
    "`pip install git+https://github.com/bambinos/formulae.git`"
   ]
  },
  {
   "cell_type": "markdown",
   "id": "emerging-april",
   "metadata": {},
   "source": [
    "## User guide\n",
    "\n",
    "The main function is `design_matrices()`. It takes a model formula and a pandas DataFrame and returns an object of class `DesignMatrices` that contains information about the response, the common effects, and the group specific effects that can be accessed with the attributes `.response`, `.common`, and `.group` respectively. \n",
    "\n",
    "\n",
    "Model formulas are much like the very famous model formulas in the programming language R. The extension to group-specific effects is similar to the extension provided by the [lme4](https://CRAN.R-project.org/package=lme4) package, also in R."
   ]
  },
  {
   "cell_type": "markdown",
   "id": "fatty-dividend",
   "metadata": {},
   "source": [
    "## Setup"
   ]
  },
  {
   "cell_type": "code",
   "execution_count": 1,
   "id": "checked-moisture",
   "metadata": {},
   "outputs": [],
   "source": [
    "import numpy as np\n",
    "import pandas as pd\n",
    "\n",
    "from formulae import design_matrices"
   ]
  },
  {
   "cell_type": "markdown",
   "id": "functioning-petroleum",
   "metadata": {},
   "source": [
    "Let's simulate some data to use throughout examples here. The number of observations isn't too important. We keep it low to understand what is going on more easily. However, we do include both numeric and categoric variables to see how formulae handles these types in different scenarios."
   ]
  },
  {
   "cell_type": "code",
   "execution_count": 2,
   "id": "scientific-armenia",
   "metadata": {},
   "outputs": [
    {
     "data": {
      "text/html": [
       "<div>\n",
       "<style scoped>\n",
       "    .dataframe tbody tr th:only-of-type {\n",
       "        vertical-align: middle;\n",
       "    }\n",
       "\n",
       "    .dataframe tbody tr th {\n",
       "        vertical-align: top;\n",
       "    }\n",
       "\n",
       "    .dataframe thead th {\n",
       "        text-align: right;\n",
       "    }\n",
       "</style>\n",
       "<table border=\"1\" class=\"dataframe\">\n",
       "  <thead>\n",
       "    <tr style=\"text-align: right;\">\n",
       "      <th></th>\n",
       "      <th>y1</th>\n",
       "      <th>y2</th>\n",
       "      <th>x</th>\n",
       "      <th>z</th>\n",
       "      <th>g</th>\n",
       "    </tr>\n",
       "  </thead>\n",
       "  <tbody>\n",
       "    <tr>\n",
       "      <th>0</th>\n",
       "      <td>-1.300010</td>\n",
       "      <td>A</td>\n",
       "      <td>1.361511</td>\n",
       "      <td>2</td>\n",
       "      <td>Group 2</td>\n",
       "    </tr>\n",
       "    <tr>\n",
       "      <th>1</th>\n",
       "      <td>-1.072989</td>\n",
       "      <td>B</td>\n",
       "      <td>1.379059</td>\n",
       "      <td>2</td>\n",
       "      <td>Group 1</td>\n",
       "    </tr>\n",
       "    <tr>\n",
       "      <th>2</th>\n",
       "      <td>0.790199</td>\n",
       "      <td>A</td>\n",
       "      <td>0.666949</td>\n",
       "      <td>1</td>\n",
       "      <td>Group 3</td>\n",
       "    </tr>\n",
       "    <tr>\n",
       "      <th>3</th>\n",
       "      <td>-0.878265</td>\n",
       "      <td>B</td>\n",
       "      <td>0.171964</td>\n",
       "      <td>1</td>\n",
       "      <td>Group 2</td>\n",
       "    </tr>\n",
       "    <tr>\n",
       "      <th>4</th>\n",
       "      <td>1.501822</td>\n",
       "      <td>B</td>\n",
       "      <td>0.557267</td>\n",
       "      <td>1</td>\n",
       "      <td>Group 2</td>\n",
       "    </tr>\n",
       "    <tr>\n",
       "      <th>5</th>\n",
       "      <td>-0.023929</td>\n",
       "      <td>C</td>\n",
       "      <td>0.654634</td>\n",
       "      <td>2</td>\n",
       "      <td>Group 2</td>\n",
       "    </tr>\n",
       "    <tr>\n",
       "      <th>6</th>\n",
       "      <td>0.275949</td>\n",
       "      <td>A</td>\n",
       "      <td>0.249460</td>\n",
       "      <td>2</td>\n",
       "      <td>Group 3</td>\n",
       "    </tr>\n",
       "    <tr>\n",
       "      <th>7</th>\n",
       "      <td>-0.966393</td>\n",
       "      <td>A</td>\n",
       "      <td>-0.626812</td>\n",
       "      <td>3</td>\n",
       "      <td>Group 1</td>\n",
       "    </tr>\n",
       "    <tr>\n",
       "      <th>8</th>\n",
       "      <td>-1.580315</td>\n",
       "      <td>A</td>\n",
       "      <td>0.619571</td>\n",
       "      <td>2</td>\n",
       "      <td>Group 3</td>\n",
       "    </tr>\n",
       "    <tr>\n",
       "      <th>9</th>\n",
       "      <td>-0.203675</td>\n",
       "      <td>B</td>\n",
       "      <td>0.338624</td>\n",
       "      <td>3</td>\n",
       "      <td>Group 3</td>\n",
       "    </tr>\n",
       "  </tbody>\n",
       "</table>\n",
       "</div>"
      ],
      "text/plain": [
       "         y1 y2         x  z        g\n",
       "0 -1.300010  A  1.361511  2  Group 2\n",
       "1 -1.072989  B  1.379059  2  Group 1\n",
       "2  0.790199  A  0.666949  1  Group 3\n",
       "3 -0.878265  B  0.171964  1  Group 2\n",
       "4  1.501822  B  0.557267  1  Group 2\n",
       "5 -0.023929  C  0.654634  2  Group 2\n",
       "6  0.275949  A  0.249460  2  Group 3\n",
       "7 -0.966393  A -0.626812  3  Group 1\n",
       "8 -1.580315  A  0.619571  2  Group 3\n",
       "9 -0.203675  B  0.338624  3  Group 3"
      ]
     },
     "execution_count": 2,
     "metadata": {},
     "output_type": "execute_result"
    }
   ],
   "source": [
    "np.random.seed(1111)\n",
    "SIZE=10\n",
    "data = pd.DataFrame(\n",
    "    {\n",
    "        \"y1\": np.random.normal(size=SIZE),\n",
    "        \"y2\": np.random.choice([\"A\", \"B\", \"C\"], size=SIZE),\n",
    "        \"x\": np.random.normal(size=SIZE),\n",
    "        \"z\": np.random.choice([1, 2, 3], size=SIZE),\n",
    "        \"g\": np.random.choice([\"Group 1\", \"Group 2\", \"Group 3\"], size=SIZE),\n",
    "    }\n",
    ")\n",
    "data"
   ]
  },
  {
   "cell_type": "markdown",
   "id": "bronze-diving",
   "metadata": {},
   "source": [
    "## Creating and accessing design matrices"
   ]
  },
  {
   "cell_type": "markdown",
   "id": "geological-reserve",
   "metadata": {},
   "source": [
    "Let's create a `DesignMatrices` object with a numeric response and a numeric predictor. The first argument we pass is the model formula, and the second is the data frame where we take variables from."
   ]
  },
  {
   "cell_type": "code",
   "execution_count": 3,
   "id": "conservative-vision",
   "metadata": {},
   "outputs": [],
   "source": [
    "dm = design_matrices(\"y1 ~ x\", data)"
   ]
  },
  {
   "cell_type": "markdown",
   "id": "requested-auction",
   "metadata": {},
   "source": [
    "Under `dm.common` we find an object of class `CommonEffectsMatrix` which stores the design matrix for the common part of the model, as well as other information about the terms in the matrix."
   ]
  },
  {
   "cell_type": "code",
   "execution_count": 4,
   "id": "accepted-electronics",
   "metadata": {},
   "outputs": [
    {
     "data": {
      "text/plain": [
       "CommonEffectsMatrix(  \n",
       "  shape: (10, 2),\n",
       "  terms: {  \n",
       "    'Intercept': {  \n",
       "      type: intercept,\n",
       "      full_names: ['Intercept'],\n",
       "      cols: slice(0, 1, None)\n",
       "    },\n",
       "    'x': {  \n",
       "      type: numeric,\n",
       "      full_names: ['x'],\n",
       "      cols: slice(1, 2, None)\n",
       "    }\n",
       "  }\n",
       ")"
      ]
     },
     "execution_count": 4,
     "metadata": {},
     "output_type": "execute_result"
    }
   ],
   "source": [
    "dm.common"
   ]
  },
  {
   "cell_type": "markdown",
   "id": "banned-timothy",
   "metadata": {},
   "source": [
    "Use `.design_matrix` to obtain the design matrix for the common part of the model."
   ]
  },
  {
   "cell_type": "code",
   "execution_count": 5,
   "id": "healthy-substitute",
   "metadata": {},
   "outputs": [
    {
     "data": {
      "text/plain": [
       "array([[ 1.        ,  1.36151086],\n",
       "       [ 1.        ,  1.37905918],\n",
       "       [ 1.        ,  0.66694943],\n",
       "       [ 1.        ,  0.17196362],\n",
       "       [ 1.        ,  0.55726654],\n",
       "       [ 1.        ,  0.65463436],\n",
       "       [ 1.        ,  0.24945962],\n",
       "       [ 1.        , -0.62681223],\n",
       "       [ 1.        ,  0.61957115],\n",
       "       [ 1.        ,  0.33862397]])"
      ]
     },
     "execution_count": 5,
     "metadata": {},
     "output_type": "execute_result"
    }
   ],
   "source": [
    "dm.common.design_matrix"
   ]
  },
  {
   "cell_type": "markdown",
   "id": "professional-pride",
   "metadata": {},
   "source": [
    "Or call the `.as_dataframe()` method to return a data frame."
   ]
  },
  {
   "cell_type": "code",
   "execution_count": 6,
   "id": "egyptian-plate",
   "metadata": {},
   "outputs": [
    {
     "data": {
      "text/html": [
       "<div>\n",
       "<style scoped>\n",
       "    .dataframe tbody tr th:only-of-type {\n",
       "        vertical-align: middle;\n",
       "    }\n",
       "\n",
       "    .dataframe tbody tr th {\n",
       "        vertical-align: top;\n",
       "    }\n",
       "\n",
       "    .dataframe thead th {\n",
       "        text-align: right;\n",
       "    }\n",
       "</style>\n",
       "<table border=\"1\" class=\"dataframe\">\n",
       "  <thead>\n",
       "    <tr style=\"text-align: right;\">\n",
       "      <th></th>\n",
       "      <th>Intercept</th>\n",
       "      <th>x</th>\n",
       "    </tr>\n",
       "  </thead>\n",
       "  <tbody>\n",
       "    <tr>\n",
       "      <th>0</th>\n",
       "      <td>1.0</td>\n",
       "      <td>1.361511</td>\n",
       "    </tr>\n",
       "    <tr>\n",
       "      <th>1</th>\n",
       "      <td>1.0</td>\n",
       "      <td>1.379059</td>\n",
       "    </tr>\n",
       "    <tr>\n",
       "      <th>2</th>\n",
       "      <td>1.0</td>\n",
       "      <td>0.666949</td>\n",
       "    </tr>\n",
       "    <tr>\n",
       "      <th>3</th>\n",
       "      <td>1.0</td>\n",
       "      <td>0.171964</td>\n",
       "    </tr>\n",
       "    <tr>\n",
       "      <th>4</th>\n",
       "      <td>1.0</td>\n",
       "      <td>0.557267</td>\n",
       "    </tr>\n",
       "  </tbody>\n",
       "</table>\n",
       "</div>"
      ],
      "text/plain": [
       "   Intercept         x\n",
       "0        1.0  1.361511\n",
       "1        1.0  1.379059\n",
       "2        1.0  0.666949\n",
       "3        1.0  0.171964\n",
       "4        1.0  0.557267"
      ]
     },
     "execution_count": 6,
     "metadata": {},
     "output_type": "execute_result"
    }
   ],
   "source": [
    "dm.common.as_dataframe().head()"
   ]
  },
  {
   "cell_type": "markdown",
   "id": "temporal-wisconsin",
   "metadata": {},
   "source": [
    "## Categorical predictors\n",
    "\n",
    "Variables with categorical type in the pandas data frame are recognized and handled as such in formulae. If there's a numerical variable that should be interpreted as categorical and you don't want to manipulate your data manually, you can wrap the name of the variable with `C()`, like `C(variable)`, and formulae will convert it to categorical type.\n",
    "\n",
    "Categorical predictors are encoded using reference level encoding (i.e. the first level is taken as baseline). This way, the resulting design matrix is of full-rank."
   ]
  },
  {
   "cell_type": "code",
   "execution_count": 7,
   "id": "scheduled-repair",
   "metadata": {},
   "outputs": [
    {
     "data": {
      "text/html": [
       "<div>\n",
       "<style scoped>\n",
       "    .dataframe tbody tr th:only-of-type {\n",
       "        vertical-align: middle;\n",
       "    }\n",
       "\n",
       "    .dataframe tbody tr th {\n",
       "        vertical-align: top;\n",
       "    }\n",
       "\n",
       "    .dataframe thead th {\n",
       "        text-align: right;\n",
       "    }\n",
       "</style>\n",
       "<table border=\"1\" class=\"dataframe\">\n",
       "  <thead>\n",
       "    <tr style=\"text-align: right;\">\n",
       "      <th></th>\n",
       "      <th>Intercept</th>\n",
       "      <th>g[Group 2]</th>\n",
       "      <th>g[Group 3]</th>\n",
       "    </tr>\n",
       "  </thead>\n",
       "  <tbody>\n",
       "    <tr>\n",
       "      <th>0</th>\n",
       "      <td>1.0</td>\n",
       "      <td>1.0</td>\n",
       "      <td>0.0</td>\n",
       "    </tr>\n",
       "    <tr>\n",
       "      <th>1</th>\n",
       "      <td>1.0</td>\n",
       "      <td>0.0</td>\n",
       "      <td>0.0</td>\n",
       "    </tr>\n",
       "    <tr>\n",
       "      <th>2</th>\n",
       "      <td>1.0</td>\n",
       "      <td>0.0</td>\n",
       "      <td>1.0</td>\n",
       "    </tr>\n",
       "    <tr>\n",
       "      <th>3</th>\n",
       "      <td>1.0</td>\n",
       "      <td>1.0</td>\n",
       "      <td>0.0</td>\n",
       "    </tr>\n",
       "    <tr>\n",
       "      <th>4</th>\n",
       "      <td>1.0</td>\n",
       "      <td>1.0</td>\n",
       "      <td>0.0</td>\n",
       "    </tr>\n",
       "  </tbody>\n",
       "</table>\n",
       "</div>"
      ],
      "text/plain": [
       "   Intercept  g[Group 2]  g[Group 3]\n",
       "0        1.0         1.0         0.0\n",
       "1        1.0         0.0         0.0\n",
       "2        1.0         0.0         1.0\n",
       "3        1.0         1.0         0.0\n",
       "4        1.0         1.0         0.0"
      ]
     },
     "execution_count": 7,
     "metadata": {},
     "output_type": "execute_result"
    }
   ],
   "source": [
    "dm = design_matrices(\"y1 ~ g\", data, )\n",
    "dm.common.as_dataframe().head()"
   ]
  },
  {
   "cell_type": "markdown",
   "id": "passing-shopper",
   "metadata": {},
   "source": [
    "But if we don't have an intercept term, there's no need to use reference encoding for the categorical variables to avoid linear dependencies between the columns and formulae uses cell-means encoding."
   ]
  },
  {
   "cell_type": "code",
   "execution_count": 8,
   "id": "exciting-ultimate",
   "metadata": {},
   "outputs": [
    {
     "data": {
      "text/html": [
       "<div>\n",
       "<style scoped>\n",
       "    .dataframe tbody tr th:only-of-type {\n",
       "        vertical-align: middle;\n",
       "    }\n",
       "\n",
       "    .dataframe tbody tr th {\n",
       "        vertical-align: top;\n",
       "    }\n",
       "\n",
       "    .dataframe thead th {\n",
       "        text-align: right;\n",
       "    }\n",
       "</style>\n",
       "<table border=\"1\" class=\"dataframe\">\n",
       "  <thead>\n",
       "    <tr style=\"text-align: right;\">\n",
       "      <th></th>\n",
       "      <th>g[Group 1]</th>\n",
       "      <th>g[Group 2]</th>\n",
       "      <th>g[Group 3]</th>\n",
       "    </tr>\n",
       "  </thead>\n",
       "  <tbody>\n",
       "    <tr>\n",
       "      <th>0</th>\n",
       "      <td>0</td>\n",
       "      <td>1</td>\n",
       "      <td>0</td>\n",
       "    </tr>\n",
       "    <tr>\n",
       "      <th>1</th>\n",
       "      <td>1</td>\n",
       "      <td>0</td>\n",
       "      <td>0</td>\n",
       "    </tr>\n",
       "    <tr>\n",
       "      <th>2</th>\n",
       "      <td>0</td>\n",
       "      <td>0</td>\n",
       "      <td>1</td>\n",
       "    </tr>\n",
       "    <tr>\n",
       "      <th>3</th>\n",
       "      <td>0</td>\n",
       "      <td>1</td>\n",
       "      <td>0</td>\n",
       "    </tr>\n",
       "    <tr>\n",
       "      <th>4</th>\n",
       "      <td>0</td>\n",
       "      <td>1</td>\n",
       "      <td>0</td>\n",
       "    </tr>\n",
       "  </tbody>\n",
       "</table>\n",
       "</div>"
      ],
      "text/plain": [
       "   g[Group 1]  g[Group 2]  g[Group 3]\n",
       "0           0           1           0\n",
       "1           1           0           0\n",
       "2           0           0           1\n",
       "3           0           1           0\n",
       "4           0           1           0"
      ]
     },
     "execution_count": 8,
     "metadata": {},
     "output_type": "execute_result"
    }
   ],
   "source": [
    "dm = design_matrices(\"y1 ~ 0 + g\", data)\n",
    "dm.common.as_dataframe().head()"
   ]
  },
  {
   "cell_type": "markdown",
   "id": "after-label",
   "metadata": {},
   "source": [
    "Suppose that `z` actually represents a certain categorization represented by numbers. We can use `\"y1 ~ C(z)\"` and `z` will be internally interpreted as categorical instead of numeric."
   ]
  },
  {
   "cell_type": "code",
   "execution_count": 9,
   "id": "final-lucas",
   "metadata": {},
   "outputs": [
    {
     "data": {
      "text/html": [
       "<div>\n",
       "<style scoped>\n",
       "    .dataframe tbody tr th:only-of-type {\n",
       "        vertical-align: middle;\n",
       "    }\n",
       "\n",
       "    .dataframe tbody tr th {\n",
       "        vertical-align: top;\n",
       "    }\n",
       "\n",
       "    .dataframe thead th {\n",
       "        text-align: right;\n",
       "    }\n",
       "</style>\n",
       "<table border=\"1\" class=\"dataframe\">\n",
       "  <thead>\n",
       "    <tr style=\"text-align: right;\">\n",
       "      <th></th>\n",
       "      <th>Intercept</th>\n",
       "      <th>C(z)[2]</th>\n",
       "      <th>C(z)[3]</th>\n",
       "    </tr>\n",
       "  </thead>\n",
       "  <tbody>\n",
       "    <tr>\n",
       "      <th>0</th>\n",
       "      <td>1.0</td>\n",
       "      <td>1.0</td>\n",
       "      <td>0.0</td>\n",
       "    </tr>\n",
       "    <tr>\n",
       "      <th>1</th>\n",
       "      <td>1.0</td>\n",
       "      <td>1.0</td>\n",
       "      <td>0.0</td>\n",
       "    </tr>\n",
       "    <tr>\n",
       "      <th>2</th>\n",
       "      <td>1.0</td>\n",
       "      <td>0.0</td>\n",
       "      <td>0.0</td>\n",
       "    </tr>\n",
       "    <tr>\n",
       "      <th>3</th>\n",
       "      <td>1.0</td>\n",
       "      <td>0.0</td>\n",
       "      <td>0.0</td>\n",
       "    </tr>\n",
       "    <tr>\n",
       "      <th>4</th>\n",
       "      <td>1.0</td>\n",
       "      <td>0.0</td>\n",
       "      <td>0.0</td>\n",
       "    </tr>\n",
       "  </tbody>\n",
       "</table>\n",
       "</div>"
      ],
      "text/plain": [
       "   Intercept  C(z)[2]  C(z)[3]\n",
       "0        1.0      1.0      0.0\n",
       "1        1.0      1.0      0.0\n",
       "2        1.0      0.0      0.0\n",
       "3        1.0      0.0      0.0\n",
       "4        1.0      0.0      0.0"
      ]
     },
     "execution_count": 9,
     "metadata": {},
     "output_type": "execute_result"
    }
   ],
   "source": [
    "dm = design_matrices(\"y1 ~ C(z)\", data)\n",
    "dm.common.as_dataframe().head()"
   ]
  },
  {
   "cell_type": "markdown",
   "id": "sought-cover",
   "metadata": {},
   "source": [
    "By default, the `C()` wrapper takes the first level as the reference level (after being sorted with `sorted()`), but we can override this by passing a list with a custom ordering. "
   ]
  },
  {
   "cell_type": "code",
   "execution_count": 10,
   "id": "sustained-orleans",
   "metadata": {},
   "outputs": [
    {
     "data": {
      "text/html": [
       "<div>\n",
       "<style scoped>\n",
       "    .dataframe tbody tr th:only-of-type {\n",
       "        vertical-align: middle;\n",
       "    }\n",
       "\n",
       "    .dataframe tbody tr th {\n",
       "        vertical-align: top;\n",
       "    }\n",
       "\n",
       "    .dataframe thead th {\n",
       "        text-align: right;\n",
       "    }\n",
       "</style>\n",
       "<table border=\"1\" class=\"dataframe\">\n",
       "  <thead>\n",
       "    <tr style=\"text-align: right;\">\n",
       "      <th></th>\n",
       "      <th>Intercept</th>\n",
       "      <th>C(z, levels = lvls)[3]</th>\n",
       "      <th>C(z, levels = lvls)[1]</th>\n",
       "    </tr>\n",
       "  </thead>\n",
       "  <tbody>\n",
       "    <tr>\n",
       "      <th>0</th>\n",
       "      <td>1.0</td>\n",
       "      <td>0.0</td>\n",
       "      <td>0.0</td>\n",
       "    </tr>\n",
       "    <tr>\n",
       "      <th>1</th>\n",
       "      <td>1.0</td>\n",
       "      <td>0.0</td>\n",
       "      <td>0.0</td>\n",
       "    </tr>\n",
       "    <tr>\n",
       "      <th>2</th>\n",
       "      <td>1.0</td>\n",
       "      <td>0.0</td>\n",
       "      <td>1.0</td>\n",
       "    </tr>\n",
       "    <tr>\n",
       "      <th>3</th>\n",
       "      <td>1.0</td>\n",
       "      <td>0.0</td>\n",
       "      <td>1.0</td>\n",
       "    </tr>\n",
       "    <tr>\n",
       "      <th>4</th>\n",
       "      <td>1.0</td>\n",
       "      <td>0.0</td>\n",
       "      <td>1.0</td>\n",
       "    </tr>\n",
       "  </tbody>\n",
       "</table>\n",
       "</div>"
      ],
      "text/plain": [
       "   Intercept  C(z, levels = lvls)[3]  C(z, levels = lvls)[1]\n",
       "0        1.0                     0.0                     0.0\n",
       "1        1.0                     0.0                     0.0\n",
       "2        1.0                     0.0                     1.0\n",
       "3        1.0                     0.0                     1.0\n",
       "4        1.0                     0.0                     1.0"
      ]
     },
     "execution_count": 10,
     "metadata": {},
     "output_type": "execute_result"
    }
   ],
   "source": [
    "# 2 is taken as baseline, and then it comes 3 and 1.\n",
    "lvls = [2, 3, 1]\n",
    "dm = design_matrices(\"y1 ~ C(z, levels=lvls)\", data)\n",
    "dm.common.as_dataframe().head()"
   ]
  },
  {
   "cell_type": "markdown",
   "id": "broken-morgan",
   "metadata": {},
   "source": [
    "And finally, `C()` also allows us to convert a variable into a `0-1` variable by passing a reference level. In the next chunk of code we use `C(z, 2)`, which means the new variable will be 1 whenever `z==2`, and 0 otherwise."
   ]
  },
  {
   "cell_type": "code",
   "execution_count": 11,
   "id": "linear-retreat",
   "metadata": {},
   "outputs": [
    {
     "data": {
      "text/html": [
       "<div>\n",
       "<style scoped>\n",
       "    .dataframe tbody tr th:only-of-type {\n",
       "        vertical-align: middle;\n",
       "    }\n",
       "\n",
       "    .dataframe tbody tr th {\n",
       "        vertical-align: top;\n",
       "    }\n",
       "\n",
       "    .dataframe thead th {\n",
       "        text-align: right;\n",
       "    }\n",
       "</style>\n",
       "<table border=\"1\" class=\"dataframe\">\n",
       "  <thead>\n",
       "    <tr style=\"text-align: right;\">\n",
       "      <th></th>\n",
       "      <th>Intercept</th>\n",
       "      <th>C(z, 2)</th>\n",
       "    </tr>\n",
       "  </thead>\n",
       "  <tbody>\n",
       "    <tr>\n",
       "      <th>0</th>\n",
       "      <td>1.0</td>\n",
       "      <td>1.0</td>\n",
       "    </tr>\n",
       "    <tr>\n",
       "      <th>1</th>\n",
       "      <td>1.0</td>\n",
       "      <td>1.0</td>\n",
       "    </tr>\n",
       "    <tr>\n",
       "      <th>2</th>\n",
       "      <td>1.0</td>\n",
       "      <td>0.0</td>\n",
       "    </tr>\n",
       "    <tr>\n",
       "      <th>3</th>\n",
       "      <td>1.0</td>\n",
       "      <td>0.0</td>\n",
       "    </tr>\n",
       "    <tr>\n",
       "      <th>4</th>\n",
       "      <td>1.0</td>\n",
       "      <td>0.0</td>\n",
       "    </tr>\n",
       "  </tbody>\n",
       "</table>\n",
       "</div>"
      ],
      "text/plain": [
       "   Intercept  C(z, 2)\n",
       "0        1.0      1.0\n",
       "1        1.0      1.0\n",
       "2        1.0      0.0\n",
       "3        1.0      0.0\n",
       "4        1.0      0.0"
      ]
     },
     "execution_count": 11,
     "metadata": {},
     "output_type": "execute_result"
    }
   ],
   "source": [
    "dm = design_matrices(\"y1 ~ C(z, 2)\", data)\n",
    "dm.common.as_dataframe().head()"
   ]
  },
  {
   "cell_type": "markdown",
   "id": "perfect-roller",
   "metadata": {},
   "source": [
    "## Adding interactions\n",
    "\n",
    "The interaction operator is `:`."
   ]
  },
  {
   "cell_type": "code",
   "execution_count": 12,
   "id": "convertible-tactics",
   "metadata": {},
   "outputs": [
    {
     "data": {
      "text/html": [
       "<div>\n",
       "<style scoped>\n",
       "    .dataframe tbody tr th:only-of-type {\n",
       "        vertical-align: middle;\n",
       "    }\n",
       "\n",
       "    .dataframe tbody tr th {\n",
       "        vertical-align: top;\n",
       "    }\n",
       "\n",
       "    .dataframe thead th {\n",
       "        text-align: right;\n",
       "    }\n",
       "</style>\n",
       "<table border=\"1\" class=\"dataframe\">\n",
       "  <thead>\n",
       "    <tr style=\"text-align: right;\">\n",
       "      <th></th>\n",
       "      <th>Intercept</th>\n",
       "      <th>x:z</th>\n",
       "    </tr>\n",
       "  </thead>\n",
       "  <tbody>\n",
       "    <tr>\n",
       "      <th>0</th>\n",
       "      <td>1.0</td>\n",
       "      <td>2.723022</td>\n",
       "    </tr>\n",
       "    <tr>\n",
       "      <th>1</th>\n",
       "      <td>1.0</td>\n",
       "      <td>2.758118</td>\n",
       "    </tr>\n",
       "    <tr>\n",
       "      <th>2</th>\n",
       "      <td>1.0</td>\n",
       "      <td>0.666949</td>\n",
       "    </tr>\n",
       "    <tr>\n",
       "      <th>3</th>\n",
       "      <td>1.0</td>\n",
       "      <td>0.171964</td>\n",
       "    </tr>\n",
       "    <tr>\n",
       "      <th>4</th>\n",
       "      <td>1.0</td>\n",
       "      <td>0.557267</td>\n",
       "    </tr>\n",
       "  </tbody>\n",
       "</table>\n",
       "</div>"
      ],
      "text/plain": [
       "   Intercept       x:z\n",
       "0        1.0  2.723022\n",
       "1        1.0  2.758118\n",
       "2        1.0  0.666949\n",
       "3        1.0  0.171964\n",
       "4        1.0  0.557267"
      ]
     },
     "execution_count": 12,
     "metadata": {},
     "output_type": "execute_result"
    }
   ],
   "source": [
    "dm = design_matrices(\"y1 ~ x:z\", data)\n",
    "dm.common.as_dataframe().head()"
   ]
  },
  {
   "cell_type": "markdown",
   "id": "happy-lobby",
   "metadata": {},
   "source": [
    "The `*` operator is known as the full interaction operator because `x*z` is equivalent to `x + z + x:z`"
   ]
  },
  {
   "cell_type": "code",
   "execution_count": 13,
   "id": "impressive-attention",
   "metadata": {},
   "outputs": [
    {
     "data": {
      "text/html": [
       "<div>\n",
       "<style scoped>\n",
       "    .dataframe tbody tr th:only-of-type {\n",
       "        vertical-align: middle;\n",
       "    }\n",
       "\n",
       "    .dataframe tbody tr th {\n",
       "        vertical-align: top;\n",
       "    }\n",
       "\n",
       "    .dataframe thead th {\n",
       "        text-align: right;\n",
       "    }\n",
       "</style>\n",
       "<table border=\"1\" class=\"dataframe\">\n",
       "  <thead>\n",
       "    <tr style=\"text-align: right;\">\n",
       "      <th></th>\n",
       "      <th>Intercept</th>\n",
       "      <th>x</th>\n",
       "      <th>z</th>\n",
       "      <th>x:z</th>\n",
       "    </tr>\n",
       "  </thead>\n",
       "  <tbody>\n",
       "    <tr>\n",
       "      <th>0</th>\n",
       "      <td>1.0</td>\n",
       "      <td>1.361511</td>\n",
       "      <td>2.0</td>\n",
       "      <td>2.723022</td>\n",
       "    </tr>\n",
       "    <tr>\n",
       "      <th>1</th>\n",
       "      <td>1.0</td>\n",
       "      <td>1.379059</td>\n",
       "      <td>2.0</td>\n",
       "      <td>2.758118</td>\n",
       "    </tr>\n",
       "    <tr>\n",
       "      <th>2</th>\n",
       "      <td>1.0</td>\n",
       "      <td>0.666949</td>\n",
       "      <td>1.0</td>\n",
       "      <td>0.666949</td>\n",
       "    </tr>\n",
       "    <tr>\n",
       "      <th>3</th>\n",
       "      <td>1.0</td>\n",
       "      <td>0.171964</td>\n",
       "      <td>1.0</td>\n",
       "      <td>0.171964</td>\n",
       "    </tr>\n",
       "    <tr>\n",
       "      <th>4</th>\n",
       "      <td>1.0</td>\n",
       "      <td>0.557267</td>\n",
       "      <td>1.0</td>\n",
       "      <td>0.557267</td>\n",
       "    </tr>\n",
       "  </tbody>\n",
       "</table>\n",
       "</div>"
      ],
      "text/plain": [
       "   Intercept         x    z       x:z\n",
       "0        1.0  1.361511  2.0  2.723022\n",
       "1        1.0  1.379059  2.0  2.758118\n",
       "2        1.0  0.666949  1.0  0.666949\n",
       "3        1.0  0.171964  1.0  0.171964\n",
       "4        1.0  0.557267  1.0  0.557267"
      ]
     },
     "execution_count": 13,
     "metadata": {},
     "output_type": "execute_result"
    }
   ],
   "source": [
    "dm = design_matrices(\"y1 ~ x*z\", data)\n",
    "dm.common.as_dataframe().head()"
   ]
  },
  {
   "cell_type": "markdown",
   "id": "greater-scale",
   "metadata": {},
   "source": [
    "And both interaction operators can be used with mixtures of numerical and categorical variables."
   ]
  },
  {
   "cell_type": "code",
   "execution_count": 14,
   "id": "liberal-bandwidth",
   "metadata": {},
   "outputs": [
    {
     "data": {
      "text/html": [
       "<div>\n",
       "<style scoped>\n",
       "    .dataframe tbody tr th:only-of-type {\n",
       "        vertical-align: middle;\n",
       "    }\n",
       "\n",
       "    .dataframe tbody tr th {\n",
       "        vertical-align: top;\n",
       "    }\n",
       "\n",
       "    .dataframe thead th {\n",
       "        text-align: right;\n",
       "    }\n",
       "</style>\n",
       "<table border=\"1\" class=\"dataframe\">\n",
       "  <thead>\n",
       "    <tr style=\"text-align: right;\">\n",
       "      <th></th>\n",
       "      <th>x</th>\n",
       "      <th>g[Group 1]</th>\n",
       "      <th>g[Group 2]</th>\n",
       "      <th>g[Group 3]</th>\n",
       "      <th>x:g[Group 2]</th>\n",
       "      <th>x:g[Group 3]</th>\n",
       "    </tr>\n",
       "  </thead>\n",
       "  <tbody>\n",
       "    <tr>\n",
       "      <th>0</th>\n",
       "      <td>1.361511</td>\n",
       "      <td>0.0</td>\n",
       "      <td>1.0</td>\n",
       "      <td>0.0</td>\n",
       "      <td>1.361511</td>\n",
       "      <td>0.000000</td>\n",
       "    </tr>\n",
       "    <tr>\n",
       "      <th>1</th>\n",
       "      <td>1.379059</td>\n",
       "      <td>1.0</td>\n",
       "      <td>0.0</td>\n",
       "      <td>0.0</td>\n",
       "      <td>0.000000</td>\n",
       "      <td>0.000000</td>\n",
       "    </tr>\n",
       "    <tr>\n",
       "      <th>2</th>\n",
       "      <td>0.666949</td>\n",
       "      <td>0.0</td>\n",
       "      <td>0.0</td>\n",
       "      <td>1.0</td>\n",
       "      <td>0.000000</td>\n",
       "      <td>0.666949</td>\n",
       "    </tr>\n",
       "    <tr>\n",
       "      <th>3</th>\n",
       "      <td>0.171964</td>\n",
       "      <td>0.0</td>\n",
       "      <td>1.0</td>\n",
       "      <td>0.0</td>\n",
       "      <td>0.171964</td>\n",
       "      <td>0.000000</td>\n",
       "    </tr>\n",
       "    <tr>\n",
       "      <th>4</th>\n",
       "      <td>0.557267</td>\n",
       "      <td>0.0</td>\n",
       "      <td>1.0</td>\n",
       "      <td>0.0</td>\n",
       "      <td>0.557267</td>\n",
       "      <td>0.000000</td>\n",
       "    </tr>\n",
       "  </tbody>\n",
       "</table>\n",
       "</div>"
      ],
      "text/plain": [
       "          x  g[Group 1]  g[Group 2]  g[Group 3]  x:g[Group 2]  x:g[Group 3]\n",
       "0  1.361511         0.0         1.0         0.0      1.361511      0.000000\n",
       "1  1.379059         1.0         0.0         0.0      0.000000      0.000000\n",
       "2  0.666949         0.0         0.0         1.0      0.000000      0.666949\n",
       "3  0.171964         0.0         1.0         0.0      0.171964      0.000000\n",
       "4  0.557267         0.0         1.0         0.0      0.557267      0.000000"
      ]
     },
     "execution_count": 14,
     "metadata": {},
     "output_type": "execute_result"
    }
   ],
   "source": [
    "dm = design_matrices(\"y1 ~ 0 + x*g\", data)\n",
    "dm.common.as_dataframe().head()"
   ]
  },
  {
   "cell_type": "markdown",
   "id": "filled-wichita",
   "metadata": {},
   "source": [
    "## Function calls\n",
    "\n",
    "A term does not need to be just a variable in a pandas data frame. It can also be the result of a function call."
   ]
  },
  {
   "cell_type": "code",
   "execution_count": 15,
   "id": "angry-consistency",
   "metadata": {},
   "outputs": [
    {
     "data": {
      "text/html": [
       "<div>\n",
       "<style scoped>\n",
       "    .dataframe tbody tr th:only-of-type {\n",
       "        vertical-align: middle;\n",
       "    }\n",
       "\n",
       "    .dataframe tbody tr th {\n",
       "        vertical-align: top;\n",
       "    }\n",
       "\n",
       "    .dataframe thead th {\n",
       "        text-align: right;\n",
       "    }\n",
       "</style>\n",
       "<table border=\"1\" class=\"dataframe\">\n",
       "  <thead>\n",
       "    <tr style=\"text-align: right;\">\n",
       "      <th></th>\n",
       "      <th>Intercept</th>\n",
       "      <th>np.exp(x)</th>\n",
       "    </tr>\n",
       "  </thead>\n",
       "  <tbody>\n",
       "    <tr>\n",
       "      <th>0</th>\n",
       "      <td>1.0</td>\n",
       "      <td>3.902084</td>\n",
       "    </tr>\n",
       "    <tr>\n",
       "      <th>1</th>\n",
       "      <td>1.0</td>\n",
       "      <td>3.971164</td>\n",
       "    </tr>\n",
       "    <tr>\n",
       "      <th>2</th>\n",
       "      <td>1.0</td>\n",
       "      <td>1.948285</td>\n",
       "    </tr>\n",
       "    <tr>\n",
       "      <th>3</th>\n",
       "      <td>1.0</td>\n",
       "      <td>1.187635</td>\n",
       "    </tr>\n",
       "    <tr>\n",
       "      <th>4</th>\n",
       "      <td>1.0</td>\n",
       "      <td>1.745894</td>\n",
       "    </tr>\n",
       "  </tbody>\n",
       "</table>\n",
       "</div>"
      ],
      "text/plain": [
       "   Intercept  np.exp(x)\n",
       "0        1.0   3.902084\n",
       "1        1.0   3.971164\n",
       "2        1.0   1.948285\n",
       "3        1.0   1.187635\n",
       "4        1.0   1.745894"
      ]
     },
     "execution_count": 15,
     "metadata": {},
     "output_type": "execute_result"
    }
   ],
   "source": [
    "dm = design_matrices(\"y1 ~ np.exp(x)\", data)\n",
    "dm.common.as_dataframe().head()"
   ]
  },
  {
   "cell_type": "markdown",
   "id": "educated-kazakhstan",
   "metadata": {},
   "source": [
    "Or the result of calling a custom function."
   ]
  },
  {
   "cell_type": "code",
   "execution_count": 16,
   "id": "voluntary-compatibility",
   "metadata": {},
   "outputs": [
    {
     "data": {
      "text/html": [
       "<div>\n",
       "<style scoped>\n",
       "    .dataframe tbody tr th:only-of-type {\n",
       "        vertical-align: middle;\n",
       "    }\n",
       "\n",
       "    .dataframe tbody tr th {\n",
       "        vertical-align: top;\n",
       "    }\n",
       "\n",
       "    .dataframe thead th {\n",
       "        text-align: right;\n",
       "    }\n",
       "</style>\n",
       "<table border=\"1\" class=\"dataframe\">\n",
       "  <thead>\n",
       "    <tr style=\"text-align: right;\">\n",
       "      <th></th>\n",
       "      <th>Intercept</th>\n",
       "      <th>add(x, 10)</th>\n",
       "    </tr>\n",
       "  </thead>\n",
       "  <tbody>\n",
       "    <tr>\n",
       "      <th>0</th>\n",
       "      <td>1.0</td>\n",
       "      <td>11.361511</td>\n",
       "    </tr>\n",
       "    <tr>\n",
       "      <th>1</th>\n",
       "      <td>1.0</td>\n",
       "      <td>11.379059</td>\n",
       "    </tr>\n",
       "    <tr>\n",
       "      <th>2</th>\n",
       "      <td>1.0</td>\n",
       "      <td>10.666949</td>\n",
       "    </tr>\n",
       "    <tr>\n",
       "      <th>3</th>\n",
       "      <td>1.0</td>\n",
       "      <td>10.171964</td>\n",
       "    </tr>\n",
       "    <tr>\n",
       "      <th>4</th>\n",
       "      <td>1.0</td>\n",
       "      <td>10.557267</td>\n",
       "    </tr>\n",
       "  </tbody>\n",
       "</table>\n",
       "</div>"
      ],
      "text/plain": [
       "   Intercept  add(x, 10)\n",
       "0        1.0   11.361511\n",
       "1        1.0   11.379059\n",
       "2        1.0   10.666949\n",
       "3        1.0   10.171964\n",
       "4        1.0   10.557267"
      ]
     },
     "execution_count": 16,
     "metadata": {},
     "output_type": "execute_result"
    }
   ],
   "source": [
    "def add(x, how_much):\n",
    "    return x + how_much\n",
    "\n",
    "dm = design_matrices(\"y1 ~ add(x, 10)\", data)\n",
    "dm.common.as_dataframe().head()"
   ]
  },
  {
   "cell_type": "markdown",
   "id": "checked-corrections",
   "metadata": {},
   "source": [
    "Or even nested function calls!"
   ]
  },
  {
   "cell_type": "code",
   "execution_count": 17,
   "id": "ready-application",
   "metadata": {},
   "outputs": [
    {
     "data": {
      "text/html": [
       "<div>\n",
       "<style scoped>\n",
       "    .dataframe tbody tr th:only-of-type {\n",
       "        vertical-align: middle;\n",
       "    }\n",
       "\n",
       "    .dataframe tbody tr th {\n",
       "        vertical-align: top;\n",
       "    }\n",
       "\n",
       "    .dataframe thead th {\n",
       "        text-align: right;\n",
       "    }\n",
       "</style>\n",
       "<table border=\"1\" class=\"dataframe\">\n",
       "  <thead>\n",
       "    <tr style=\"text-align: right;\">\n",
       "      <th></th>\n",
       "      <th>Intercept</th>\n",
       "      <th>add(np.exp(x), 5)</th>\n",
       "    </tr>\n",
       "  </thead>\n",
       "  <tbody>\n",
       "    <tr>\n",
       "      <th>0</th>\n",
       "      <td>1.0</td>\n",
       "      <td>8.902084</td>\n",
       "    </tr>\n",
       "    <tr>\n",
       "      <th>1</th>\n",
       "      <td>1.0</td>\n",
       "      <td>8.971164</td>\n",
       "    </tr>\n",
       "    <tr>\n",
       "      <th>2</th>\n",
       "      <td>1.0</td>\n",
       "      <td>6.948285</td>\n",
       "    </tr>\n",
       "    <tr>\n",
       "      <th>3</th>\n",
       "      <td>1.0</td>\n",
       "      <td>6.187635</td>\n",
       "    </tr>\n",
       "    <tr>\n",
       "      <th>4</th>\n",
       "      <td>1.0</td>\n",
       "      <td>6.745894</td>\n",
       "    </tr>\n",
       "  </tbody>\n",
       "</table>\n",
       "</div>"
      ],
      "text/plain": [
       "   Intercept  add(np.exp(x), 5)\n",
       "0        1.0           8.902084\n",
       "1        1.0           8.971164\n",
       "2        1.0           6.948285\n",
       "3        1.0           6.187635\n",
       "4        1.0           6.745894"
      ]
     },
     "execution_count": 17,
     "metadata": {},
     "output_type": "execute_result"
    }
   ],
   "source": [
    "dm = design_matrices(\"y1 ~ add(np.exp(x), 5)\", data)\n",
    "dm.common.as_dataframe().head()"
   ]
  },
  {
   "cell_type": "markdown",
   "id": "reported-conditioning",
   "metadata": {},
   "source": [
    "## Built-in transformations\n",
    "\n",
    "There are only two built-in transformations (for now!) that are commonly used when doing statistical modeling. These are `center()` and `scale()`. They center and standardize a variable, respectively."
   ]
  },
  {
   "cell_type": "code",
   "execution_count": 18,
   "id": "flexible-watershed",
   "metadata": {},
   "outputs": [
    {
     "data": {
      "text/html": [
       "<div>\n",
       "<style scoped>\n",
       "    .dataframe tbody tr th:only-of-type {\n",
       "        vertical-align: middle;\n",
       "    }\n",
       "\n",
       "    .dataframe tbody tr th {\n",
       "        vertical-align: top;\n",
       "    }\n",
       "\n",
       "    .dataframe thead th {\n",
       "        text-align: right;\n",
       "    }\n",
       "</style>\n",
       "<table border=\"1\" class=\"dataframe\">\n",
       "  <thead>\n",
       "    <tr style=\"text-align: right;\">\n",
       "      <th></th>\n",
       "      <th>Intercept</th>\n",
       "      <th>scale(x)</th>\n",
       "    </tr>\n",
       "  </thead>\n",
       "  <tbody>\n",
       "    <tr>\n",
       "      <th>0</th>\n",
       "      <td>1.0</td>\n",
       "      <td>1.495846</td>\n",
       "    </tr>\n",
       "    <tr>\n",
       "      <th>1</th>\n",
       "      <td>1.0</td>\n",
       "      <td>1.527691</td>\n",
       "    </tr>\n",
       "    <tr>\n",
       "      <th>2</th>\n",
       "      <td>1.0</td>\n",
       "      <td>0.235417</td>\n",
       "    </tr>\n",
       "    <tr>\n",
       "      <th>3</th>\n",
       "      <td>1.0</td>\n",
       "      <td>-0.662840</td>\n",
       "    </tr>\n",
       "    <tr>\n",
       "      <th>4</th>\n",
       "      <td>1.0</td>\n",
       "      <td>0.036374</td>\n",
       "    </tr>\n",
       "  </tbody>\n",
       "</table>\n",
       "</div>"
      ],
      "text/plain": [
       "   Intercept  scale(x)\n",
       "0        1.0  1.495846\n",
       "1        1.0  1.527691\n",
       "2        1.0  0.235417\n",
       "3        1.0 -0.662840\n",
       "4        1.0  0.036374"
      ]
     },
     "execution_count": 18,
     "metadata": {},
     "output_type": "execute_result"
    }
   ],
   "source": [
    "dm = design_matrices(\"y1 ~ scale(x)\", data)\n",
    "dm.common.as_dataframe().head()"
   ]
  },
  {
   "cell_type": "code",
   "execution_count": 19,
   "id": "lovely-arlington",
   "metadata": {},
   "outputs": [
    {
     "name": "stdout",
     "output_type": "stream",
     "text": [
      "1.0\n",
      "-3.8857805861880476e-17\n"
     ]
    }
   ],
   "source": [
    "# check mean is 0 and std is 1\n",
    "print(np.std(dm.common.as_dataframe()[\"scale(x)\"]))\n",
    "print(np.mean(dm.common.as_dataframe()[\"scale(x)\"]))"
   ]
  },
  {
   "cell_type": "markdown",
   "id": "experienced-baghdad",
   "metadata": {},
   "source": [
    "These transformations are known as **stateful transformations** because they remember the original values of parameters involved in the transformation (the mean and the standard deviation). This feature is critical when one wants to derive a design matrix based on new data, as required when evaluating the fit of a model on a new dataset."
   ]
  },
  {
   "cell_type": "markdown",
   "id": "genuine-engineering",
   "metadata": {},
   "source": [
    "### Suppresing the default intercept\n",
    "\n",
    "By default, formulae includes an intercept in the resulting desing matrix. But this can be ommited. Just add a `0` to the model formula as in the following example. "
   ]
  },
  {
   "cell_type": "code",
   "execution_count": 20,
   "id": "sharp-simple",
   "metadata": {},
   "outputs": [
    {
     "data": {
      "text/html": [
       "<div>\n",
       "<style scoped>\n",
       "    .dataframe tbody tr th:only-of-type {\n",
       "        vertical-align: middle;\n",
       "    }\n",
       "\n",
       "    .dataframe tbody tr th {\n",
       "        vertical-align: top;\n",
       "    }\n",
       "\n",
       "    .dataframe thead th {\n",
       "        text-align: right;\n",
       "    }\n",
       "</style>\n",
       "<table border=\"1\" class=\"dataframe\">\n",
       "  <thead>\n",
       "    <tr style=\"text-align: right;\">\n",
       "      <th></th>\n",
       "      <th>x</th>\n",
       "    </tr>\n",
       "  </thead>\n",
       "  <tbody>\n",
       "    <tr>\n",
       "      <th>0</th>\n",
       "      <td>1.361511</td>\n",
       "    </tr>\n",
       "    <tr>\n",
       "      <th>1</th>\n",
       "      <td>1.379059</td>\n",
       "    </tr>\n",
       "    <tr>\n",
       "      <th>2</th>\n",
       "      <td>0.666949</td>\n",
       "    </tr>\n",
       "    <tr>\n",
       "      <th>3</th>\n",
       "      <td>0.171964</td>\n",
       "    </tr>\n",
       "    <tr>\n",
       "      <th>4</th>\n",
       "      <td>0.557267</td>\n",
       "    </tr>\n",
       "  </tbody>\n",
       "</table>\n",
       "</div>"
      ],
      "text/plain": [
       "          x\n",
       "0  1.361511\n",
       "1  1.379059\n",
       "2  0.666949\n",
       "3  0.171964\n",
       "4  0.557267"
      ]
     },
     "execution_count": 20,
     "metadata": {},
     "output_type": "execute_result"
    }
   ],
   "source": [
    "dm = design_matrices(\"y1 ~ 0 + x\", data)\n",
    "dm.common.as_dataframe().head()"
   ]
  },
  {
   "cell_type": "markdown",
   "id": "progressive-physics",
   "metadata": {},
   "source": [
    "`\"y1 ~ -1 + x\"` and `\"y1 ~ x - 1\"` are equivalent alternatives."
   ]
  },
  {
   "cell_type": "markdown",
   "id": "british-mount",
   "metadata": {},
   "source": [
    "## Operations between terms\n",
    "\n",
    "It is possible someone wants to use a term that is the result of adding two other terms, such as `x + z`. However, if we do `\"y ~ x + z\"`, formulae will understand we want a model with two predictor terms, `x`, and `z`. Fortunately, there are two (equivalent) ways of telling formulae that we want a term that is the result of performing operations between other terms. This can be achieved either by using the `I()` wrapper or its shorthand `{}`."
   ]
  },
  {
   "cell_type": "code",
   "execution_count": 21,
   "id": "occupied-times",
   "metadata": {},
   "outputs": [
    {
     "data": {
      "text/html": [
       "<div>\n",
       "<style scoped>\n",
       "    .dataframe tbody tr th:only-of-type {\n",
       "        vertical-align: middle;\n",
       "    }\n",
       "\n",
       "    .dataframe tbody tr th {\n",
       "        vertical-align: top;\n",
       "    }\n",
       "\n",
       "    .dataframe thead th {\n",
       "        text-align: right;\n",
       "    }\n",
       "</style>\n",
       "<table border=\"1\" class=\"dataframe\">\n",
       "  <thead>\n",
       "    <tr style=\"text-align: right;\">\n",
       "      <th></th>\n",
       "      <th>Intercept</th>\n",
       "      <th>I(x + z)</th>\n",
       "    </tr>\n",
       "  </thead>\n",
       "  <tbody>\n",
       "    <tr>\n",
       "      <th>0</th>\n",
       "      <td>1.0</td>\n",
       "      <td>3.361511</td>\n",
       "    </tr>\n",
       "    <tr>\n",
       "      <th>1</th>\n",
       "      <td>1.0</td>\n",
       "      <td>3.379059</td>\n",
       "    </tr>\n",
       "    <tr>\n",
       "      <th>2</th>\n",
       "      <td>1.0</td>\n",
       "      <td>1.666949</td>\n",
       "    </tr>\n",
       "    <tr>\n",
       "      <th>3</th>\n",
       "      <td>1.0</td>\n",
       "      <td>1.171964</td>\n",
       "    </tr>\n",
       "    <tr>\n",
       "      <th>4</th>\n",
       "      <td>1.0</td>\n",
       "      <td>1.557267</td>\n",
       "    </tr>\n",
       "  </tbody>\n",
       "</table>\n",
       "</div>"
      ],
      "text/plain": [
       "   Intercept  I(x + z)\n",
       "0        1.0  3.361511\n",
       "1        1.0  3.379059\n",
       "2        1.0  1.666949\n",
       "3        1.0  1.171964\n",
       "4        1.0  1.557267"
      ]
     },
     "execution_count": 21,
     "metadata": {},
     "output_type": "execute_result"
    }
   ],
   "source": [
    "dm = design_matrices(\"y1 ~ I(x + z)\", data)\n",
    "dm.common.as_dataframe().head()"
   ]
  },
  {
   "cell_type": "code",
   "execution_count": 22,
   "id": "seasonal-dollar",
   "metadata": {},
   "outputs": [
    {
     "data": {
      "text/html": [
       "<div>\n",
       "<style scoped>\n",
       "    .dataframe tbody tr th:only-of-type {\n",
       "        vertical-align: middle;\n",
       "    }\n",
       "\n",
       "    .dataframe tbody tr th {\n",
       "        vertical-align: top;\n",
       "    }\n",
       "\n",
       "    .dataframe thead th {\n",
       "        text-align: right;\n",
       "    }\n",
       "</style>\n",
       "<table border=\"1\" class=\"dataframe\">\n",
       "  <thead>\n",
       "    <tr style=\"text-align: right;\">\n",
       "      <th></th>\n",
       "      <th>Intercept</th>\n",
       "      <th>I(x / z)</th>\n",
       "    </tr>\n",
       "  </thead>\n",
       "  <tbody>\n",
       "    <tr>\n",
       "      <th>0</th>\n",
       "      <td>1.0</td>\n",
       "      <td>0.680755</td>\n",
       "    </tr>\n",
       "    <tr>\n",
       "      <th>1</th>\n",
       "      <td>1.0</td>\n",
       "      <td>0.689530</td>\n",
       "    </tr>\n",
       "    <tr>\n",
       "      <th>2</th>\n",
       "      <td>1.0</td>\n",
       "      <td>0.666949</td>\n",
       "    </tr>\n",
       "    <tr>\n",
       "      <th>3</th>\n",
       "      <td>1.0</td>\n",
       "      <td>0.171964</td>\n",
       "    </tr>\n",
       "    <tr>\n",
       "      <th>4</th>\n",
       "      <td>1.0</td>\n",
       "      <td>0.557267</td>\n",
       "    </tr>\n",
       "  </tbody>\n",
       "</table>\n",
       "</div>"
      ],
      "text/plain": [
       "   Intercept  I(x / z)\n",
       "0        1.0  0.680755\n",
       "1        1.0  0.689530\n",
       "2        1.0  0.666949\n",
       "3        1.0  0.171964\n",
       "4        1.0  0.557267"
      ]
     },
     "execution_count": 22,
     "metadata": {},
     "output_type": "execute_result"
    }
   ],
   "source": [
    "dm = design_matrices(\"y1 ~ {x / z}\", data)\n",
    "dm.common.as_dataframe().head()"
   ]
  },
  {
   "cell_type": "markdown",
   "id": "changing-latter",
   "metadata": {},
   "source": [
    "As you may have noticed, the output shows `I()` instead of `{}`. That's because `{}` is translated into `I()` internally."
   ]
  },
  {
   "cell_type": "markdown",
   "id": "exciting-azerbaijan",
   "metadata": {},
   "source": [
    "## Categorical responses\n",
    "\n",
    "Currently, formulae converts categorical responses into a binary representation. If the LHS of the formula is a categorical variable with more than two levels, the first level will be represented by a 1, and the rest will be represented by a 0.\n",
    "\n",
    "Recall `y2` is a categorical variable with levels `A`, `B` and `C`. In this case, formulae will interpret `A` as the reference class and it will be represented by a 1. All the rest are represented with a 0."
   ]
  },
  {
   "cell_type": "code",
   "execution_count": 23,
   "id": "blocked-configuration",
   "metadata": {},
   "outputs": [
    {
     "data": {
      "text/plain": [
       "ResponseVector(  \n",
       "  name: y2,\n",
       "  type: categoric,\n",
       "  length: 10,\n",
       "  refclass: A\n",
       ")"
      ]
     },
     "execution_count": 23,
     "metadata": {},
     "output_type": "execute_result"
    }
   ],
   "source": [
    "dm = design_matrices(\"y2 ~ x\", data)\n",
    "dm.response"
   ]
  },
  {
   "cell_type": "code",
   "execution_count": 24,
   "id": "julian-viking",
   "metadata": {},
   "outputs": [
    {
     "data": {
      "text/plain": [
       "array([[1],\n",
       "       [0],\n",
       "       [1],\n",
       "       [0],\n",
       "       [0],\n",
       "       [0],\n",
       "       [1],\n",
       "       [1],\n",
       "       [1],\n",
       "       [0]])"
      ]
     },
     "execution_count": 24,
     "metadata": {},
     "output_type": "execute_result"
    }
   ],
   "source": [
    "dm.response.design_vector"
   ]
  },
  {
   "cell_type": "markdown",
   "id": "amateur-contest",
   "metadata": {},
   "source": [
    "But it is also possible to override the default behavior and indicate the reference level with some syntax sugar. If you say `response['level']`, formulae will take level `'level'` as reference. For example"
   ]
  },
  {
   "cell_type": "code",
   "execution_count": 25,
   "id": "social-bahrain",
   "metadata": {},
   "outputs": [
    {
     "data": {
      "text/plain": [
       "ResponseVector(  \n",
       "  name: y2,\n",
       "  type: categoric,\n",
       "  length: 10,\n",
       "  refclass: B\n",
       ")"
      ]
     },
     "execution_count": 25,
     "metadata": {},
     "output_type": "execute_result"
    }
   ],
   "source": [
    "dm = design_matrices(\"y2['B'] ~ x\", data)\n",
    "dm.response"
   ]
  },
  {
   "cell_type": "code",
   "execution_count": 26,
   "id": "rapid-deposit",
   "metadata": {},
   "outputs": [
    {
     "data": {
      "text/plain": [
       "array([[0],\n",
       "       [1],\n",
       "       [0],\n",
       "       [1],\n",
       "       [1],\n",
       "       [0],\n",
       "       [0],\n",
       "       [0],\n",
       "       [0],\n",
       "       [1]])"
      ]
     },
     "execution_count": 26,
     "metadata": {},
     "output_type": "execute_result"
    }
   ],
   "source": [
    "# 'y2' is equal to B in four cases\n",
    "dm.response.design_vector"
   ]
  },
  {
   "cell_type": "markdown",
   "id": "cognitive-tablet",
   "metadata": {},
   "source": [
    "## Group-specific effects\n",
    "\n",
    "formulae also handles group-specific effects. They are specified using the pipe operator `|`, such as in [lme4](https://CRAN.R-project.org/package=lme4) package from R. This terms are of the form `(expr|factor)` where the `expr` represents the effect and `factor` the group. [This vignette](https://cran.r-project.org/web/packages/lme4/vignettes/lmer.pdf) from lme4 provides much better information on how this notation works. In a nutshell, group-specific intercepts are specified via `(1|group)` and group-specific slopes are specified via `(variable|group)`. The latter also adds a group-specific intercept by default. This can be overriden doing `(0 + variable|group)`.\n",
    "\n",
    "First, let's see a formula specifying a common predictor, `x`, and a group-specific intercept for each level of `g`."
   ]
  },
  {
   "cell_type": "code",
   "execution_count": 27,
   "id": "indirect-hanging",
   "metadata": {},
   "outputs": [
    {
     "data": {
      "text/plain": [
       "GroupEffectsMatrix(  \n",
       "  shape: (10, 3),\n",
       "  terms: {  \n",
       "    '1|g': {  \n",
       "      type: intercept,\n",
       "      groups: ['Group 1', 'Group 2', 'Group 3'],\n",
       "      full_names: ['1|g[Group 1]', '1|g[Group 2]', '1|g[Group 3]'],\n",
       "      cols: slice(0, 3, None)\n",
       "    }\n",
       "  }\n",
       ")"
      ]
     },
     "execution_count": 27,
     "metadata": {},
     "output_type": "execute_result"
    }
   ],
   "source": [
    "dm = design_matrices(\"y1 ~ x + (1|g)\", data)\n",
    "dm.group"
   ]
  },
  {
   "cell_type": "code",
   "execution_count": 28,
   "id": "bronze-ethnic",
   "metadata": {},
   "outputs": [
    {
     "data": {
      "text/html": [
       "<div>\n",
       "<style scoped>\n",
       "    .dataframe tbody tr th:only-of-type {\n",
       "        vertical-align: middle;\n",
       "    }\n",
       "\n",
       "    .dataframe tbody tr th {\n",
       "        vertical-align: top;\n",
       "    }\n",
       "\n",
       "    .dataframe thead th {\n",
       "        text-align: right;\n",
       "    }\n",
       "</style>\n",
       "<table border=\"1\" class=\"dataframe\">\n",
       "  <thead>\n",
       "    <tr style=\"text-align: right;\">\n",
       "      <th></th>\n",
       "      <th>Intercept</th>\n",
       "      <th>x</th>\n",
       "    </tr>\n",
       "  </thead>\n",
       "  <tbody>\n",
       "    <tr>\n",
       "      <th>0</th>\n",
       "      <td>1.0</td>\n",
       "      <td>1.361511</td>\n",
       "    </tr>\n",
       "    <tr>\n",
       "      <th>1</th>\n",
       "      <td>1.0</td>\n",
       "      <td>1.379059</td>\n",
       "    </tr>\n",
       "    <tr>\n",
       "      <th>2</th>\n",
       "      <td>1.0</td>\n",
       "      <td>0.666949</td>\n",
       "    </tr>\n",
       "    <tr>\n",
       "      <th>3</th>\n",
       "      <td>1.0</td>\n",
       "      <td>0.171964</td>\n",
       "    </tr>\n",
       "    <tr>\n",
       "      <th>4</th>\n",
       "      <td>1.0</td>\n",
       "      <td>0.557267</td>\n",
       "    </tr>\n",
       "    <tr>\n",
       "      <th>5</th>\n",
       "      <td>1.0</td>\n",
       "      <td>0.654634</td>\n",
       "    </tr>\n",
       "    <tr>\n",
       "      <th>6</th>\n",
       "      <td>1.0</td>\n",
       "      <td>0.249460</td>\n",
       "    </tr>\n",
       "    <tr>\n",
       "      <th>7</th>\n",
       "      <td>1.0</td>\n",
       "      <td>-0.626812</td>\n",
       "    </tr>\n",
       "    <tr>\n",
       "      <th>8</th>\n",
       "      <td>1.0</td>\n",
       "      <td>0.619571</td>\n",
       "    </tr>\n",
       "    <tr>\n",
       "      <th>9</th>\n",
       "      <td>1.0</td>\n",
       "      <td>0.338624</td>\n",
       "    </tr>\n",
       "  </tbody>\n",
       "</table>\n",
       "</div>"
      ],
      "text/plain": [
       "   Intercept         x\n",
       "0        1.0  1.361511\n",
       "1        1.0  1.379059\n",
       "2        1.0  0.666949\n",
       "3        1.0  0.171964\n",
       "4        1.0  0.557267\n",
       "5        1.0  0.654634\n",
       "6        1.0  0.249460\n",
       "7        1.0 -0.626812\n",
       "8        1.0  0.619571\n",
       "9        1.0  0.338624"
      ]
     },
     "execution_count": 28,
     "metadata": {},
     "output_type": "execute_result"
    }
   ],
   "source": [
    "dm.common.as_dataframe()"
   ]
  },
  {
   "cell_type": "code",
   "execution_count": 29,
   "id": "material-strength",
   "metadata": {},
   "outputs": [
    {
     "data": {
      "text/plain": [
       "array([[0., 1., 0.],\n",
       "       [1., 0., 0.],\n",
       "       [0., 0., 1.],\n",
       "       [0., 1., 0.],\n",
       "       [0., 1., 0.],\n",
       "       [0., 1., 0.],\n",
       "       [0., 0., 1.],\n",
       "       [1., 0., 0.],\n",
       "       [0., 0., 1.],\n",
       "       [0., 0., 1.]])"
      ]
     },
     "execution_count": 29,
     "metadata": {},
     "output_type": "execute_result"
    }
   ],
   "source": [
    "dm.group.design_matrix"
   ]
  },
  {
   "cell_type": "markdown",
   "id": "accompanied-conviction",
   "metadata": {},
   "source": [
    "If we now use `(x|g)` we get both the group-specific slope, as well as the intercept, because it is incldued by default."
   ]
  },
  {
   "cell_type": "code",
   "execution_count": 30,
   "id": "parliamentary-access",
   "metadata": {},
   "outputs": [
    {
     "data": {
      "text/plain": [
       "GroupEffectsMatrix(  \n",
       "  shape: (10, 6),\n",
       "  terms: {  \n",
       "    '1|g': {  \n",
       "      type: intercept,\n",
       "      groups: ['Group 1', 'Group 2', 'Group 3'],\n",
       "      full_names: ['1|g[Group 1]', '1|g[Group 2]', '1|g[Group 3]'],\n",
       "      cols: slice(0, 3, None)\n",
       "    },\n",
       "    'x|g': {  \n",
       "      type: numeric,\n",
       "      groups: ['Group 1', 'Group 2', 'Group 3'],\n",
       "      full_names: ['x|g[Group 1]', 'x|g[Group 2]', 'x|g[Group 3]'],\n",
       "      cols: slice(3, 6, None)\n",
       "    }\n",
       "  }\n",
       ")"
      ]
     },
     "execution_count": 30,
     "metadata": {},
     "output_type": "execute_result"
    }
   ],
   "source": [
    "dm = design_matrices(\"y1 ~ x + (x|g)\", data)\n",
    "dm.group"
   ]
  },
  {
   "cell_type": "markdown",
   "id": "independent-sitting",
   "metadata": {},
   "source": [
    "We can access the different sub-matrices corresponding to each term as follows"
   ]
  },
  {
   "cell_type": "code",
   "execution_count": 31,
   "id": "fifth-grass",
   "metadata": {},
   "outputs": [
    {
     "data": {
      "text/plain": [
       "array([[0., 1., 0.],\n",
       "       [1., 0., 0.],\n",
       "       [0., 0., 1.],\n",
       "       [0., 1., 0.],\n",
       "       [0., 1., 0.],\n",
       "       [0., 1., 0.],\n",
       "       [0., 0., 1.],\n",
       "       [1., 0., 0.],\n",
       "       [0., 0., 1.],\n",
       "       [0., 0., 1.]])"
      ]
     },
     "execution_count": 31,
     "metadata": {},
     "output_type": "execute_result"
    }
   ],
   "source": [
    "dm.group[\"1|g\"] # same as before"
   ]
  },
  {
   "cell_type": "code",
   "execution_count": 32,
   "id": "impressive-repeat",
   "metadata": {},
   "outputs": [
    {
     "data": {
      "text/plain": [
       "array([[ 0.        ,  1.36151086,  0.        ],\n",
       "       [ 1.37905918,  0.        ,  0.        ],\n",
       "       [ 0.        ,  0.        ,  0.66694943],\n",
       "       [ 0.        ,  0.17196362,  0.        ],\n",
       "       [ 0.        ,  0.55726654,  0.        ],\n",
       "       [ 0.        ,  0.65463436,  0.        ],\n",
       "       [ 0.        ,  0.        ,  0.24945962],\n",
       "       [-0.62681223, -0.        , -0.        ],\n",
       "       [ 0.        ,  0.        ,  0.61957115],\n",
       "       [ 0.        ,  0.        ,  0.33862397]])"
      ]
     },
     "execution_count": 32,
     "metadata": {},
     "output_type": "execute_result"
    }
   ],
   "source": [
    "dm.group[\"x|g\"]"
   ]
  },
  {
   "cell_type": "markdown",
   "id": "tutorial-movement",
   "metadata": {},
   "source": [
    "But as with the common part, this default intercept can be removed"
   ]
  },
  {
   "cell_type": "code",
   "execution_count": 33,
   "id": "stainless-scottish",
   "metadata": {},
   "outputs": [
    {
     "data": {
      "text/plain": [
       "GroupEffectsMatrix(  \n",
       "  shape: (10, 3),\n",
       "  terms: {  \n",
       "    'x|g': {  \n",
       "      type: numeric,\n",
       "      groups: ['Group 1', 'Group 2', 'Group 3'],\n",
       "      full_names: ['x|g[Group 1]', 'x|g[Group 2]', 'x|g[Group 3]'],\n",
       "      cols: slice(0, 3, None)\n",
       "    }\n",
       "  }\n",
       ")"
      ]
     },
     "execution_count": 33,
     "metadata": {},
     "output_type": "execute_result"
    }
   ],
   "source": [
    "dm = design_matrices(\"y1 ~ x + (0 + x|g)\", data)\n",
    "dm.group # note there is no 1|x in the terms"
   ]
  },
  {
   "cell_type": "markdown",
   "id": "great-timer",
   "metadata": {},
   "source": [
    "As a final remark, we note that the `expr` part of a group-specific can also be a categorical variable or an interaction. Similar rules apply for the `factor` part."
   ]
  },
  {
   "cell_type": "markdown",
   "id": "complete-lebanon",
   "metadata": {},
   "source": [
    "## Evaluating new data"
   ]
  },
  {
   "cell_type": "markdown",
   "id": "departmental-federation",
   "metadata": {},
   "source": [
    "Both `CommonEffectsMatrix` and `GroupEffectsMatrix` are provided with a method that receives a data frame, with the same structure that the original data frame, and returns a new design matrix.\n",
    "\n",
    "Suppose we have measured three variables, `y`, `x` and `g` on some subjects. `y` and `x` are numerics, while `g` is a categorical variable that represents some grouping. We also have a model with a common slope, and both varying intercepts and slopes, where we want to standardize the numeric predictor before entering the model. The formula would be `y ~ scale(x) + (scale(x)|g)`."
   ]
  },
  {
   "cell_type": "code",
   "execution_count": 34,
   "id": "hairy-monster",
   "metadata": {},
   "outputs": [],
   "source": [
    "data = pd.DataFrame({\n",
    "    \"y\": np.random.normal(size=50),\n",
    "    \"x\": np.random.normal(loc=200, scale=20, size=50),\n",
    "    \"g\": np.random.choice([\"A\", \"B\", \"C\"], size=50)\n",
    "})"
   ]
  },
  {
   "cell_type": "code",
   "execution_count": 35,
   "id": "bibliographic-impression",
   "metadata": {},
   "outputs": [
    {
     "name": "stdout",
     "output_type": "stream",
     "text": [
      "CommonEffectsMatrix(  \n",
      "  shape: (50, 2),\n",
      "  terms: {  \n",
      "    'Intercept': {  \n",
      "      type: intercept,\n",
      "      full_names: ['Intercept'],\n",
      "      cols: slice(0, 1, None)\n",
      "    },\n",
      "    'scale(x)': {  \n",
      "      type: numeric,\n",
      "      full_names: ['scale(x)'],\n",
      "      cols: slice(1, 2, None)\n",
      "    }\n",
      "  }\n",
      ")\n"
     ]
    }
   ],
   "source": [
    "dm = design_matrices(\"y ~ scale(x) + (scale(x)|g)\", data)\n",
    "print(dm.common)"
   ]
  },
  {
   "cell_type": "code",
   "execution_count": 36,
   "id": "hollywood-professional",
   "metadata": {},
   "outputs": [
    {
     "name": "stdout",
     "output_type": "stream",
     "text": [
      "GroupEffectsMatrix(  \n",
      "  shape: (50, 6),\n",
      "  terms: {  \n",
      "    '1|g': {  \n",
      "      type: intercept,\n",
      "      groups: ['A', 'B', 'C'],\n",
      "      full_names: ['1|g[A]', '1|g[B]', '1|g[C]'],\n",
      "      cols: slice(0, 3, None)\n",
      "    },\n",
      "    'scale(x)|g': {  \n",
      "      type: numeric,\n",
      "      groups: ['A', 'B', 'C'],\n",
      "      full_names: ['scale(x)|g[A]', 'scale(x)|g[B]', 'scale(x)|g[C]'],\n",
      "      cols: slice(3, 6, None)\n",
      "    }\n",
      "  }\n",
      ")\n"
     ]
    }
   ],
   "source": [
    "print(dm.group)"
   ]
  },
  {
   "cell_type": "markdown",
   "id": "worst-pollution",
   "metadata": {},
   "source": [
    "And now suppose we have new data for a set of new subjects. We can derive both common and group-specific design matrices for these new individuals without having to specify the model again. We can instead use the `._evaluate_new_data()` method. This method takes a data frame and returns either a new `CommonEffectsMatrix` or a new `GroupEffectsMatrix` depending on which object the method was called."
   ]
  },
  {
   "cell_type": "code",
   "execution_count": 37,
   "id": "transsexual-luxury",
   "metadata": {},
   "outputs": [],
   "source": [
    "data2 = pd.DataFrame({\n",
    "    \"x\": np.random.normal(loc=180, scale=20,size=10),\n",
    "    \"g\": np.random.choice([\"A\", \"B\", \"C\"], size=10)\n",
    "})"
   ]
  },
  {
   "cell_type": "code",
   "execution_count": 38,
   "id": "assumed-header",
   "metadata": {},
   "outputs": [
    {
     "data": {
      "text/plain": [
       "CommonEffectsMatrix(  \n",
       "  shape: (10, 2),\n",
       "  terms: {  \n",
       "    'Intercept': {  \n",
       "      type: intercept,\n",
       "      full_names: ['Intercept'],\n",
       "      cols: slice(0, 1, None)\n",
       "    },\n",
       "    'scale(x)': {  \n",
       "      type: numeric,\n",
       "      full_names: ['scale(x)'],\n",
       "      cols: slice(1, 2, None)\n",
       "    }\n",
       "  }\n",
       ")"
      ]
     },
     "execution_count": 38,
     "metadata": {},
     "output_type": "execute_result"
    }
   ],
   "source": [
    "common_new = dm.common._evaluate_new_data(data2)\n",
    "common_new"
   ]
  },
  {
   "cell_type": "markdown",
   "id": "transsexual-objective",
   "metadata": {},
   "source": [
    "And if we explore the design matrix for the common terms we notice the scaling of the new data used the mean and standard deviation `x` in the first dataset."
   ]
  },
  {
   "cell_type": "code",
   "execution_count": 39,
   "id": "activated-danish",
   "metadata": {},
   "outputs": [
    {
     "data": {
      "text/html": [
       "<div>\n",
       "<style scoped>\n",
       "    .dataframe tbody tr th:only-of-type {\n",
       "        vertical-align: middle;\n",
       "    }\n",
       "\n",
       "    .dataframe tbody tr th {\n",
       "        vertical-align: top;\n",
       "    }\n",
       "\n",
       "    .dataframe thead th {\n",
       "        text-align: right;\n",
       "    }\n",
       "</style>\n",
       "<table border=\"1\" class=\"dataframe\">\n",
       "  <thead>\n",
       "    <tr style=\"text-align: right;\">\n",
       "      <th></th>\n",
       "      <th>Intercept</th>\n",
       "      <th>scale(x)</th>\n",
       "    </tr>\n",
       "  </thead>\n",
       "  <tbody>\n",
       "    <tr>\n",
       "      <th>0</th>\n",
       "      <td>1.0</td>\n",
       "      <td>0.093144</td>\n",
       "    </tr>\n",
       "    <tr>\n",
       "      <th>1</th>\n",
       "      <td>1.0</td>\n",
       "      <td>-0.792722</td>\n",
       "    </tr>\n",
       "    <tr>\n",
       "      <th>2</th>\n",
       "      <td>1.0</td>\n",
       "      <td>-1.275461</td>\n",
       "    </tr>\n",
       "    <tr>\n",
       "      <th>3</th>\n",
       "      <td>1.0</td>\n",
       "      <td>-1.891837</td>\n",
       "    </tr>\n",
       "    <tr>\n",
       "      <th>4</th>\n",
       "      <td>1.0</td>\n",
       "      <td>-1.410180</td>\n",
       "    </tr>\n",
       "    <tr>\n",
       "      <th>5</th>\n",
       "      <td>1.0</td>\n",
       "      <td>-1.762914</td>\n",
       "    </tr>\n",
       "    <tr>\n",
       "      <th>6</th>\n",
       "      <td>1.0</td>\n",
       "      <td>0.065393</td>\n",
       "    </tr>\n",
       "    <tr>\n",
       "      <th>7</th>\n",
       "      <td>1.0</td>\n",
       "      <td>-3.441713</td>\n",
       "    </tr>\n",
       "    <tr>\n",
       "      <th>8</th>\n",
       "      <td>1.0</td>\n",
       "      <td>-2.492593</td>\n",
       "    </tr>\n",
       "    <tr>\n",
       "      <th>9</th>\n",
       "      <td>1.0</td>\n",
       "      <td>-3.075939</td>\n",
       "    </tr>\n",
       "  </tbody>\n",
       "</table>\n",
       "</div>"
      ],
      "text/plain": [
       "   Intercept  scale(x)\n",
       "0        1.0  0.093144\n",
       "1        1.0 -0.792722\n",
       "2        1.0 -1.275461\n",
       "3        1.0 -1.891837\n",
       "4        1.0 -1.410180\n",
       "5        1.0 -1.762914\n",
       "6        1.0  0.065393\n",
       "7        1.0 -3.441713\n",
       "8        1.0 -2.492593\n",
       "9        1.0 -3.075939"
      ]
     },
     "execution_count": 39,
     "metadata": {},
     "output_type": "execute_result"
    }
   ],
   "source": [
    "common_new.as_dataframe()"
   ]
  },
  {
   "cell_type": "markdown",
   "id": "honest-catholic",
   "metadata": {},
   "source": [
    "Something similar can be done with the group-specific part."
   ]
  },
  {
   "cell_type": "code",
   "execution_count": 40,
   "id": "cloudy-extreme",
   "metadata": {},
   "outputs": [
    {
     "data": {
      "text/plain": [
       "GroupEffectsMatrix(  \n",
       "  shape: (10, 6),\n",
       "  terms: {  \n",
       "    '1|g': {  \n",
       "      type: intercept,\n",
       "      groups: ['A', 'B', 'C'],\n",
       "      full_names: ['1|g[A]', '1|g[B]', '1|g[C]'],\n",
       "      cols: slice(0, 3, None)\n",
       "    },\n",
       "    'scale(x)|g': {  \n",
       "      type: numeric,\n",
       "      groups: ['A', 'B', 'C'],\n",
       "      full_names: ['scale(x)|g[A]', 'scale(x)|g[B]', 'scale(x)|g[C]'],\n",
       "      cols: slice(3, 6, None)\n",
       "    }\n",
       "  }\n",
       ")"
      ]
     },
     "execution_count": 40,
     "metadata": {},
     "output_type": "execute_result"
    }
   ],
   "source": [
    "group_new = dm.group._evaluate_new_data(data2)\n",
    "group_new"
   ]
  },
  {
   "cell_type": "code",
   "execution_count": 41,
   "id": "signal-seventh",
   "metadata": {},
   "outputs": [
    {
     "data": {
      "text/plain": [
       "array([[ 0.        ,  0.        ,  0.09314421],\n",
       "       [-0.        , -0.        , -0.7927217 ],\n",
       "       [-0.        , -0.        , -1.27546133],\n",
       "       [-0.        , -0.        , -1.89183665],\n",
       "       [-0.        , -0.        , -1.41018013],\n",
       "       [-1.76291403, -0.        , -0.        ],\n",
       "       [ 0.        ,  0.        ,  0.06539344],\n",
       "       [-0.        , -3.44171315, -0.        ],\n",
       "       [-0.        , -0.        , -2.49259338],\n",
       "       [-0.        , -0.        , -3.07593863]])"
      ]
     },
     "execution_count": 41,
     "metadata": {},
     "output_type": "execute_result"
    }
   ],
   "source": [
    "group_new[\"scale(x)|g\"]"
   ]
  },
  {
   "cell_type": "markdown",
   "id": "signal-belle",
   "metadata": {},
   "source": [
    "Why the first column of zeros? Well, it looks like there's nobody in the new data has `g == \"A\"`"
   ]
  },
  {
   "cell_type": "code",
   "execution_count": 42,
   "id": "verified-german",
   "metadata": {},
   "outputs": [
    {
     "data": {
      "text/plain": [
       "array(['C', 'C', 'C', 'C', 'C', 'A', 'C', 'B', 'C', 'C'], dtype=object)"
      ]
     },
     "execution_count": 42,
     "metadata": {},
     "output_type": "execute_result"
    }
   ],
   "source": [
    "data2[\"g\"].values"
   ]
  }
 ],
 "metadata": {
  "kernelspec": {
   "display_name": "formulae",
   "language": "python",
   "name": "formulae"
  },
  "language_info": {
   "codemirror_mode": {
    "name": "ipython",
    "version": 3
   },
   "file_extension": ".py",
   "mimetype": "text/x-python",
   "name": "python",
   "nbconvert_exporter": "python",
   "pygments_lexer": "ipython3",
   "version": "3.8.5"
  }
 },
 "nbformat": 4,
 "nbformat_minor": 5
}
